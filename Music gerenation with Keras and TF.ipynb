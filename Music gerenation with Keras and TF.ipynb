{
 "cells": [
  {
   "cell_type": "markdown",
   "metadata": {},
   "source": [
    "We got this python notebook from the following GitHub repo (https://github.com/subpath/Keras_music_gereration) as a way to test our baseline:\n",
    "\n",
    "### Music gereration firth Keras and TensorFlow backend\n",
    "\n",
    "Plan was simple:\n",
    "1. Read midi file, convert it to matrix of features\n",
    "2. Create simple model with Keras and LSTM to learn the pattern\n",
    "3. Use subsample of initial midi file as a input for model to generate pure art\n",
    "4. Save prediction from model to midi file\n",
    ".\n",
    ".\n",
    ".\n",
    "5. PROFIT\n",
    "\n",
    "<i> For disclamer: I've been using my old Dell Laptop with no GPU support</i>"
   ]
  },
  {
   "cell_type": "code",
   "execution_count": 2,
   "metadata": {},
   "outputs": [
    {
     "name": "stderr",
     "output_type": "stream",
     "text": [
      "Using TensorFlow backend.\n",
      "/Users/StephanieBrito/anaconda3/lib/python3.7/importlib/_bootstrap.py:219: RuntimeWarning: compiletime version 3.6 of module 'tensorflow.python.framework.fast_tensor_util' does not match runtime version 3.7\n",
      "  return f(*args, **kwds)\n"
     ]
    }
   ],
   "source": [
    "import mido\n",
    "import os\n",
    "from mido import MidiFile, MidiTrack, Message\n",
    "from keras.layers import LSTM, Dense, Activation, Dropout, Flatten\n",
    "from keras.preprocessing import sequence\n",
    "from keras.models import Sequential\n",
    "from keras.optimizers import Adam\n",
    "from keras.callbacks import ModelCheckpoint\n",
    "from sklearn.preprocessing import MinMaxScaler\n",
    "import numpy as np"
   ]
  },
  {
   "cell_type": "markdown",
   "metadata": {},
   "source": [
    "##### Read midi file"
   ]
  },
  {
   "cell_type": "code",
   "execution_count": 53,
   "metadata": {},
   "outputs": [],
   "source": [
    "mid = MidiFile('Data/Bamboleo.mid')  \n",
    "# midis = []\n",
    "# print(os.listdir('Data'))\n",
    "# for file in os.listdir('Data'):\n",
    "#     if file.endswith(\".mid\"):\n",
    "#         print(file)\n",
    "#         midis.append(MidiFile('Data/' + file, clip=True))\n",
    "    #files.append(file)"
   ]
  },
  {
   "cell_type": "code",
   "execution_count": 4,
   "metadata": {},
   "outputs": [],
   "source": [
    "# mid = MidiFile('Data/abusowillieCol.mid', clip=True)\n",
    "\n",
    "# for i, track in enumerate(mid.tracks):\n",
    "#     print('Track {}: {}'.format(i, track.name))\n",
    "#     for msg in track:\n",
    "#         if msg.type == 'program_change':\n",
    "#             print(msg)"
   ]
  },
  {
   "cell_type": "markdown",
   "metadata": {},
   "source": [
    "##### Extract notes sequence"
   ]
  },
  {
   "cell_type": "code",
   "execution_count": 58,
   "metadata": {},
   "outputs": [],
   "source": [
    "notes = []\n",
    "\n",
    "def isPercussion(channel):\n",
    "    return channel in range(8, 17) or channel in range(35, 82)\n",
    "\n",
    "for msg in mid:\n",
    "#         if msg.type == 'program_change':\n",
    "#             print(msg)\n",
    "    if not msg.is_meta and msg.channel == 0 and msg.type == 'note_on':\n",
    "        data = msg.bytes()\n",
    "        notes.append(data[1])\n",
    "\n",
    "# for file in os.listdir('Data')[1:6]:\n",
    "#     mid = MidiFile('Data/' + file, clip=True)\n",
    "#     for msg in mid:\n",
    "# #         if msg.type == 'program_change':\n",
    "# #             print(msg)\n",
    "#         if not msg.is_meta and msg.channel == 0 and msg.type == 'note_on':\n",
    "#             data = msg.bytes()\n",
    "#             notes.append(data[1])"
   ]
  },
  {
   "cell_type": "markdown",
   "metadata": {},
   "source": [
    "#### Apply min-max scalling"
   ]
  },
  {
   "cell_type": "code",
   "execution_count": 61,
   "metadata": {},
   "outputs": [
    {
     "name": "stderr",
     "output_type": "stream",
     "text": [
      "/Users/StephanieBrito/anaconda3/lib/python3.7/site-packages/sklearn/utils/validation.py:595: DataConversionWarning: Data with input dtype int64 was converted to float64 by MinMaxScaler.\n",
      "  warnings.warn(msg, DataConversionWarning)\n"
     ]
    }
   ],
   "source": [
    "scaler = MinMaxScaler(feature_range=(0,1))\n",
    "scaler.fit(np.array(notes).reshape(-1,1))\n",
    "notes = list(scaler.transform(np.array(notes).reshape(-1,1)))"
   ]
  },
  {
   "cell_type": "markdown",
   "metadata": {},
   "source": [
    "#### Prepare features for training and data subsample for prediction"
   ]
  },
  {
   "cell_type": "code",
   "execution_count": 71,
   "metadata": {},
   "outputs": [
    {
     "name": "stdout",
     "output_type": "stream",
     "text": [
      "4110\n"
     ]
    }
   ],
   "source": [
    "# LSTM layers requires that data must have a certain shape\n",
    "# create list of lists fist\n",
    "notes = [list(note) for note in notes]\n",
    "\n",
    "# subsample data for training and prediction\n",
    "X = []\n",
    "y = []\n",
    "# number of notes in a batch\n",
    "n_prev = 8\n",
    "for i in range(len(notes)-n_prev):\n",
    "    X.append(notes[i:i+n_prev])\n",
    "    y.append(notes[i+n_prev])\n",
    "# save a seed to do prediction later\n",
    "X_test = X[-300:]\n",
    "X = X[:-300]\n",
    "y = y[:-300]\n",
    "print(len(notes))"
   ]
  },
  {
   "cell_type": "markdown",
   "metadata": {},
   "source": [
    "#### Made sequential model with several layers, use LSTM as it time dependent data\n",
    "\n",
    "I also whant to save checkpoints"
   ]
  },
  {
   "cell_type": "code",
   "execution_count": 72,
   "metadata": {},
   "outputs": [],
   "source": [
    "model = Sequential()\n",
    "model.add(LSTM(256, input_shape=(n_prev, 1), return_sequences=True))\n",
    "model.add(LSTM(128, input_shape=(n_prev, 1), return_sequences=True))\n",
    "model.add(LSTM(64, input_shape=(n_prev, 1), return_sequences=False))\n",
    "model.add(Dense(1))\n",
    "model.add(Activation('linear'))\n",
    "optimizer = Adam(lr=0.001)\n",
    "model.compile(loss='mse', optimizer='rmsprop')\n",
    "filepath=\"./Checkpoints/checkpoint_model_{epoch:02d}.hdf5\"\n",
    "model_save_callback = ModelCheckpoint(filepath, monitor='val_acc', \n",
    "                                      verbose=1, save_best_only=False, \n",
    "                                      mode='auto', period=5)\n",
    "\n",
    "# network_input = X\n",
    "# model = Sequential()\n",
    "# model.add(LSTM(\n",
    "#         512,\n",
    "#         input_shape=(network_input.shape[1], network_input.shape[2]),\n",
    "#         return_sequences=True\n",
    "#     ))\n",
    "# model.add(Dropout(0.3))\n",
    "# model.add(LSTM(512, return_sequences=True))\n",
    "# model.add(Dropout(0.3))\n",
    "# model.add(LSTM(512))\n",
    "# model.add(Dense(256))\n",
    "# model.add(Dropout(0.3))\n",
    "# model.add(Dense(n_vocab))\n",
    "# model.add(Activation('softmax'))\n",
    "# model.compile(loss='categorical_crossentropy', optimizer='rmsprop')"
   ]
  },
  {
   "cell_type": "markdown",
   "metadata": {},
   "source": [
    "#### Train your model.\n",
    "It might take a while, I was waiting for 1 hour with just 5 epoch"
   ]
  },
  {
   "cell_type": "code",
   "execution_count": 73,
   "metadata": {},
   "outputs": [
    {
     "name": "stdout",
     "output_type": "stream",
     "text": [
      "Epoch 1/50\n",
      "3802/3802 [==============================] - 12s 3ms/step - loss: 0.0540\n",
      "Epoch 2/50\n",
      "3802/3802 [==============================] - 7s 2ms/step - loss: 0.0437\n",
      "Epoch 3/50\n",
      "3802/3802 [==============================] - 6s 2ms/step - loss: 0.0425\n",
      "Epoch 4/50\n",
      "3802/3802 [==============================] - 6s 2ms/step - loss: 0.0416\n",
      "Epoch 5/50\n",
      "3802/3802 [==============================] - 7s 2ms/step - loss: 0.0408\n",
      "Epoch 6/50\n",
      "3802/3802 [==============================] - 7s 2ms/step - loss: 0.0407\n",
      "Epoch 7/50\n",
      "3802/3802 [==============================] - 8s 2ms/step - loss: 0.0404\n",
      "Epoch 8/50\n",
      "3802/3802 [==============================] - 9s 2ms/step - loss: 0.0398\n",
      "Epoch 9/50\n",
      "3802/3802 [==============================] - 7s 2ms/step - loss: 0.0398\n",
      "Epoch 10/50\n",
      "3802/3802 [==============================] - 7s 2ms/step - loss: 0.0396\n",
      "Epoch 11/50\n",
      "3802/3802 [==============================] - 8s 2ms/step - loss: 0.0395\n",
      "Epoch 12/50\n",
      "3802/3802 [==============================] - 7s 2ms/step - loss: 0.0394\n",
      "Epoch 13/50\n",
      "3802/3802 [==============================] - 8s 2ms/step - loss: 0.0391\n",
      "Epoch 14/50\n",
      "3802/3802 [==============================] - 10s 3ms/step - loss: 0.0395\n",
      "Epoch 15/50\n",
      "3802/3802 [==============================] - 8s 2ms/step - loss: 0.0393\n",
      "Epoch 16/50\n",
      "3802/3802 [==============================] - 7s 2ms/step - loss: 0.0393\n",
      "Epoch 17/50\n",
      "3802/3802 [==============================] - 7s 2ms/step - loss: 0.0392\n",
      "Epoch 18/50\n",
      "3802/3802 [==============================] - 7s 2ms/step - loss: 0.0390\n",
      "Epoch 19/50\n",
      "3802/3802 [==============================] - 7s 2ms/step - loss: 0.0386\n",
      "Epoch 20/50\n",
      "3802/3802 [==============================] - 7s 2ms/step - loss: 0.0388\n",
      "Epoch 21/50\n",
      "3802/3802 [==============================] - 7s 2ms/step - loss: 0.0386\n",
      "Epoch 22/50\n",
      "3802/3802 [==============================] - 7s 2ms/step - loss: 0.0386\n",
      "Epoch 23/50\n",
      "3802/3802 [==============================] - 8s 2ms/step - loss: 0.0386\n",
      "Epoch 24/50\n",
      "3802/3802 [==============================] - 8s 2ms/step - loss: 0.0385\n",
      "Epoch 25/50\n",
      "3802/3802 [==============================] - 8s 2ms/step - loss: 0.0382\n",
      "Epoch 26/50\n",
      "3802/3802 [==============================] - 7s 2ms/step - loss: 0.0384\n",
      "Epoch 27/50\n",
      "3802/3802 [==============================] - 8s 2ms/step - loss: 0.0382\n",
      "Epoch 28/50\n",
      "3802/3802 [==============================] - 7s 2ms/step - loss: 0.0384\n",
      "Epoch 29/50\n",
      "3802/3802 [==============================] - 8s 2ms/step - loss: 0.0381\n",
      "Epoch 30/50\n",
      "3802/3802 [==============================] - 11s 3ms/step - loss: 0.0382\n",
      "Epoch 31/50\n",
      "3802/3802 [==============================] - 9s 2ms/step - loss: 0.0380\n",
      "Epoch 32/50\n",
      "3802/3802 [==============================] - 9s 2ms/step - loss: 0.0380\n",
      "Epoch 33/50\n",
      "3802/3802 [==============================] - 10s 3ms/step - loss: 0.0378\n",
      "Epoch 34/50\n",
      "3802/3802 [==============================] - 9s 2ms/step - loss: 0.0377\n",
      "Epoch 35/50\n",
      "3802/3802 [==============================] - 7s 2ms/step - loss: 0.0379\n",
      "Epoch 36/50\n",
      "3802/3802 [==============================] - 8s 2ms/step - loss: 0.0380\n",
      "Epoch 37/50\n",
      "3802/3802 [==============================] - 8s 2ms/step - loss: 0.0379\n",
      "Epoch 38/50\n",
      "3802/3802 [==============================] - 8s 2ms/step - loss: 0.0375\n",
      "Epoch 39/50\n",
      "3802/3802 [==============================] - 7s 2ms/step - loss: 0.0375\n",
      "Epoch 40/50\n",
      "3802/3802 [==============================] - 8s 2ms/step - loss: 0.0377\n",
      "Epoch 41/50\n",
      "3802/3802 [==============================] - 9s 2ms/step - loss: 0.0375\n",
      "Epoch 42/50\n",
      "3802/3802 [==============================] - 8s 2ms/step - loss: 0.0372\n",
      "Epoch 43/50\n",
      "3802/3802 [==============================] - 8s 2ms/step - loss: 0.0373\n",
      "Epoch 44/50\n",
      "3802/3802 [==============================] - 9s 2ms/step - loss: 0.0370\n",
      "Epoch 45/50\n",
      "3802/3802 [==============================] - 8s 2ms/step - loss: 0.0370\n",
      "Epoch 46/50\n",
      "3802/3802 [==============================] - 9s 2ms/step - loss: 0.0369\n",
      "Epoch 47/50\n",
      "3802/3802 [==============================] - 7s 2ms/step - loss: 0.0367\n",
      "Epoch 48/50\n",
      "3802/3802 [==============================] - 7s 2ms/step - loss: 0.0366\n",
      "Epoch 49/50\n",
      "3802/3802 [==============================] - 7s 2ms/step - loss: 0.0365\n",
      "Epoch 50/50\n",
      "3802/3802 [==============================] - 7s 2ms/step - loss: 0.0362\n"
     ]
    }
   ],
   "source": [
    "from keras.utils import to_categorical\n",
    "\n",
    "ll = model.fit(np.array(X), np.array(y), 32, 50, verbose=1)"
   ]
  },
  {
   "cell_type": "markdown",
   "metadata": {},
   "source": [
    "#### Make a prediction"
   ]
  },
  {
   "cell_type": "code",
   "execution_count": 74,
   "metadata": {},
   "outputs": [],
   "source": [
    "prediction = model.predict(np.array(X_test))\n",
    "prediction = np.squeeze(prediction)\n",
    "prediction = np.squeeze(scaler.inverse_transform(prediction.reshape(-1,1)))\n",
    "prediction = [int(i) for i in prediction]\n"
   ]
  },
  {
   "cell_type": "markdown",
   "metadata": {},
   "source": [
    "#### Save your result to new midi file"
   ]
  },
  {
   "cell_type": "code",
   "execution_count": 75,
   "metadata": {},
   "outputs": [],
   "source": [
    "mid = MidiFile()\n",
    "track = MidiTrack()\n",
    "t = 0\n",
    "for note in prediction:\n",
    "    # 147 means note_on\n",
    "    # 67 is velosity\n",
    "    note = np.asarray([147, note, 67])\n",
    "    bytes = note.astype(int)\n",
    "    msg = Message.from_bytes(bytes[0:3])\n",
    "    t += 1\n",
    "    msg.time = t\n",
    "    track.append(msg)\n",
    "mid.tracks.append(track)\n",
    "mid.save('50_epoch_8_note_seq_MSE.mid')"
   ]
  },
  {
   "cell_type": "markdown",
   "metadata": {},
   "source": [
    "#### Just listen to it. The result is surreal!"
   ]
  }
 ],
 "metadata": {
  "kernelspec": {
   "display_name": "Python 3",
   "language": "python",
   "name": "python3"
  },
  "language_info": {
   "codemirror_mode": {
    "name": "ipython",
    "version": 3
   },
   "file_extension": ".py",
   "mimetype": "text/x-python",
   "name": "python",
   "nbconvert_exporter": "python",
   "pygments_lexer": "ipython3",
   "version": "3.7.1"
  }
 },
 "nbformat": 4,
 "nbformat_minor": 2
}
